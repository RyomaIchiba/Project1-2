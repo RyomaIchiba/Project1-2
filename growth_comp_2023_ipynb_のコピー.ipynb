{
  "cells": [
    {
      "cell_type": "markdown",
      "metadata": {
        "id": "view-in-github",
        "colab_type": "text"
      },
      "source": [
        "<a href=\"https://colab.research.google.com/github/RyomaIchiba/Project1-2/blob/main/growth_comp_2023_ipynb_%E3%81%AE%E3%82%B3%E3%83%94%E3%83%BC.ipynb\" target=\"_parent\"><img src=\"https://colab.research.google.com/assets/colab-badge.svg\" alt=\"Open In Colab\"/></a>"
      ]
    },
    {
      "cell_type": "code",
      "execution_count": 19,
      "metadata": {
        "colab": {
          "base_uri": "https://localhost:8080/"
        },
        "id": "7xY0PSws21Ex",
        "outputId": "3e92287f-0a12-4f5e-cdc2-0fecd1312d4b"
      },
      "outputs": [
        {
          "output_type": "stream",
          "name": "stdout",
          "text": [
            "                    g  tfp_term_shifted  cap_term_shifted         t         a  \\\n",
            "countrycode                                                                     \n",
            "CAN          0.887700        103.191681         45.881821  0.653810  0.346190   \n",
            "DEU          0.661055        107.241402         38.176662  0.629270  0.370730   \n",
            "FRA          0.829236        105.963249        101.082375  0.618806  0.381194   \n",
            "GBR          1.015544        111.556435        893.372253  0.587007  0.412993   \n",
            "ITA         -0.037181         83.797211         76.108536  0.515165  0.484835   \n",
            "JPN          0.710956        100.996216         35.388798  0.569399  0.430601   \n",
            "USA          1.536985        118.028290        128.616684  0.606740  0.393260   \n",
            "\n",
            "             Growth Rate  TFP Growth  Capital Deeping  TFP Share  \\\n",
            "countrycode                                                        \n",
            "CAN             0.887700  103.191681        45.881821   0.653810   \n",
            "DEU             0.661055  107.241402        38.176662   0.629270   \n",
            "FRA             0.829236  105.963249       101.082375   0.618806   \n",
            "GBR             1.015544  111.556435       893.372253   0.587007   \n",
            "ITA            -0.037181   83.797211        76.108536   0.515165   \n",
            "JPN             0.710956  100.996216        35.388798   0.569399   \n",
            "USA             1.536985  118.028290       128.616684   0.606740   \n",
            "\n",
            "             Capital Share  \n",
            "countrycode                 \n",
            "CAN               0.346190  \n",
            "DEU               0.370730  \n",
            "FRA               0.381194  \n",
            "GBR               0.412993  \n",
            "ITA               0.484835  \n",
            "JPN               0.430601  \n",
            "USA               0.393260  \n"
          ]
        },
        {
          "output_type": "stream",
          "name": "stderr",
          "text": [
            "<ipython-input-19-590396d801c3>:22: FutureWarning: Not prepending group keys to the result index of transform-like apply. In the future, the group keys will be included in the index, regardless of whether the applied function returns a like-indexed object.\n",
            "To preserve the previous behavior, use\n",
            "\n",
            "\t>>> .groupby(..., group_keys=False)\n",
            "\n",
            "To adopt the future behavior and silence this warning, use \n",
            "\n",
            "\t>>> .groupby(..., group_keys=True)\n",
            "  data = data.sort_values('year').groupby('countrycode').apply(lambda x: x.assign(\n"
          ]
        }
      ],
      "source": [
        "import pandas as pd\n",
        "import numpy as np\n",
        "\n",
        "\n",
        "# Load data\n",
        "pwt1001 = pd.read_stata('https://dataverse.nl/api/access/datafile/354098')\n",
        "\n",
        "# Filter and select relevant columns\n",
        "data = pwt1001.loc[pwt1001['country'].isin([\"France\",\"Germany\", \"Canada\", \"Italy\", \"Japan\", \"United Kingdom\", \"United States\"])][['year', 'countrycode', 'rgdpna', 'rkna', 'pop', 'emp', 'avh', 'labsh', 'rtfpna']]\n",
        "data = data.loc[(data['year'] >= 1995) & (data['year'] <= 2019)].dropna()\n",
        "\n",
        "# Calculate additional columns\n",
        "data['y_pc'] = np.log(data['rgdpna'] / data['emp'])  # GDP per worker\n",
        "data['k_pc'] = np.log(data['rkna'] / data['emp'])  # Capital per worker\n",
        "data['a'] = 1 - data['labsh']  # Capital share\n",
        "data['t'] = data['labsh'] # TFP share\n",
        "data['y_n'] = data['rgdpna'] / data['emp']  # Y/N\n",
        "data['hours'] = data['emp'] * data['avh']  # L\n",
        "data['tfp_term'] = data['rtfpna'] ** (1 / (1 - data['a']))  # A^(1/(1-a))\n",
        "data['cap_term'] = (data['rkna'] / data['rgdpna']) ** (data['a'] / (1 - data['a']))  # (K/Y)^(a/(1-a))\n",
        "data['lab_term'] = data['hours'] / data['pop']  # L/N\n",
        "data = data.sort_values('year').groupby('countrycode').apply(lambda x: x.assign(\n",
        "    alpha=1 - x['labsh'],\n",
        "    y_n_shifted=100 * x['y_n'] / x['y_n'].iloc[0],\n",
        "    tfp_term_shifted=100 * x['tfp_term'] / x['tfp_term'].iloc[0],\n",
        "    cap_term_shifted=100 * x['cap_term'] / x['cap_term'].iloc[0],\n",
        "    lab_term_shifted=100 * x['lab_term'] / x['lab_term'].iloc[0]\n",
        ")).reset_index(drop=True).dropna()\n",
        "\n",
        "# Order by year\n",
        "data = data.sort_values('year')\n",
        "\n",
        "# Group by isocode\n",
        "grouped_data = data.groupby('countrycode')\n",
        "\n",
        "# Calculate growth rates and Solow residual\n",
        "data['g'] = (grouped_data['y_pc'].diff() * 100)  # Growth rate of GDP per capita\n",
        "\n",
        "# Remove missing values\n",
        "data = data.dropna()\n",
        "\n",
        "# Calculate summary statistics\n",
        "summary = data.groupby('countrycode').agg({'g': 'mean',\n",
        "                                           'tfp_term_shifted': \"mean\",\n",
        "                                           'cap_term_shifted': \"mean\",\n",
        "                                           't':\"mean\",\n",
        "                                       'a': \"mean\"})\n",
        "\n",
        "# Calculate additional summary statistics\n",
        "summary['Growth Rate'] = summary['g']\n",
        "summary['TFP Growth'] = summary['tfp_term_shifted']\n",
        "summary['Capital Deeping'] = summary['cap_term_shifted']\n",
        "summary['TFP Share'] = summary['t']\n",
        "summary['Capital Share'] = summary['a']\n",
        "\n",
        "\n",
        "\n",
        "# Print output\n",
        "print(summary)"
      ]
    }
  ],
  "metadata": {
    "colab": {
      "provenance": [],
      "include_colab_link": true
    },
    "kernelspec": {
      "display_name": "Python 3",
      "name": "python3"
    },
    "language_info": {
      "name": "python"
    }
  },
  "nbformat": 4,
  "nbformat_minor": 0
}